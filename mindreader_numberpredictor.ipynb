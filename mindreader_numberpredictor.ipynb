{
  "nbformat": 4,
  "nbformat_minor": 0,
  "metadata": {
    "colab": {
      "provenance": [],
      "authorship_tag": "ABX9TyO1/eQmr03LZaJi8kidkAw3",
      "include_colab_link": true
    },
    "kernelspec": {
      "name": "python3",
      "display_name": "Python 3"
    },
    "language_info": {
      "name": "python"
    }
  },
  "cells": [
    {
      "cell_type": "markdown",
      "metadata": {
        "id": "view-in-github",
        "colab_type": "text"
      },
      "source": [
        "<a href=\"https://colab.research.google.com/github/KshitijPriyank/MindReaderBot/blob/main/Untitled0.ipynb\" target=\"_parent\"><img src=\"https://colab.research.google.com/assets/colab-badge.svg\" alt=\"Open In Colab\"/></a>"
      ]
    },
    {
      "cell_type": "markdown",
      "source": [
        "# Mind Reader Bot"
      ],
      "metadata": {
        "id": "McGa8YnW6eZ3"
      }
    },
    {
      "cell_type": "code",
      "execution_count": null,
      "metadata": {
        "colab": {
          "base_uri": "https://localhost:8080/"
        },
        "id": "eWT3x-XL6b2h",
        "outputId": "e93a6850-d7d0-4cb7-9d6f-4be687b355d7"
      },
      "outputs": [
        {
          "output_type": "stream",
          "name": "stdout",
          "text": [
            "List of cards:\n",
            "Card 1 (Number 1): [1, 3, 5, 7, 9, 11, 13, 15, 17, 19, 21, 23, 25, 27, 29, 31, 33, 35, 37, 39, 41, 43, 45, 47, 49, 51, 53, 55, 57, 59, 61, 63]\n",
            "Card 2 (Number 2): [2, 3, 6, 7, 10, 11, 14, 15, 18, 19, 22, 23, 26, 27, 30, 31, 34, 35, 38, 39, 42, 43, 46, 47, 50, 51, 54, 55, 58, 59, 62, 63]\n",
            "Card 3 (Number 4): [4, 5, 6, 7, 12, 13, 14, 15, 20, 21, 22, 23, 28, 29, 30, 31, 36, 37, 38, 39, 44, 45, 46, 47, 52, 53, 54, 55, 60, 61, 62, 63]\n",
            "Card 4 (Number 8): [8, 9, 10, 11, 12, 13, 14, 15, 24, 25, 26, 27, 28, 29, 30, 31, 40, 41, 42, 43, 44, 45, 46, 47, 56, 57, 58, 59, 60, 61, 62, 63]\n",
            "Card 5 (Number 16): [16, 17, 18, 19, 20, 21, 22, 23, 24, 25, 26, 27, 28, 29, 30, 31, 48, 49, 50, 51, 52, 53, 54, 55, 56, 57, 58, 59, 60, 61, 62, 63]\n",
            "Card 6 (Number 32): [32, 33, 34, 35, 36, 37, 38, 39, 40, 41, 42, 43, 44, 45, 46, 47, 48, 49, 50, 51, 52, 53, 54, 55, 56, 57, 58, 59, 60, 61, 62, 63]\n",
            "\n",
            "Think of a number between 1 and 63.\n"
          ]
        }
      ],
      "source": [
        "def create_cards():\n",
        "    cards = [\n",
        "        [1, 3, 5, 7, 9, 11, 13, 15, 17, 19, 21, 23, 25, 27, 29, 31, 33, 35, 37, 39, 41, 43, 45, 47, 49, 51, 53, 55, 57, 59, 61, 63],\n",
        "        [2, 3, 6, 7, 10, 11, 14, 15, 18, 19, 22, 23, 26, 27, 30, 31, 34, 35, 38, 39, 42, 43, 46, 47, 50, 51, 54, 55, 58, 59, 62, 63],\n",
        "        [4, 5, 6, 7, 12, 13, 14, 15, 20, 21, 22, 23, 28, 29, 30, 31, 36, 37, 38, 39, 44, 45, 46, 47, 52, 53, 54, 55, 60, 61, 62, 63],\n",
        "        [8, 9, 10, 11, 12, 13, 14, 15, 24, 25, 26, 27, 28, 29, 30, 31, 40, 41, 42, 43, 44, 45, 46, 47, 56, 57, 58, 59, 60, 61, 62, 63],\n",
        "        [16, 17, 18, 19, 20, 21, 22, 23, 24, 25, 26, 27, 28, 29, 30, 31, 48, 49, 50, 51, 52, 53, 54, 55, 56, 57, 58, 59, 60, 61, 62, 63],\n",
        "        [32, 33, 34, 35, 36, 37, 38, 39, 40, 41, 42, 43, 44, 45, 46, 47, 48, 49, 50, 51, 52, 53, 54, 55, 56, 57, 58, 59, 60, 61, 62, 63]\n",
        "    ]\n",
        "\n",
        "    card_numbers = [1, 2, 4, 8, 16, 32]\n",
        "\n",
        "    return cards, card_numbers\n",
        "\n",
        "def main():\n",
        "    cards, card_numbers = create_cards()\n",
        "\n",
        "    print(\"List of cards:\")\n",
        "    for i, card in enumerate(cards, start=1):\n",
        "        print(f\"Card {i} (Number {card_numbers[i-1]}): {card}\")\n",
        "\n",
        "    print(\"\\nThink of a number between 1 and 63.\")\n",
        "    input(\"Type 'start' when you are ready and hit the 'Enter' key.\")\n",
        "\n",
        "    num = 0\n",
        "    valid_entries = ['yes', 'no']\n",
        "\n",
        "    for i, card in enumerate(cards, start=1):\n",
        "        print(f\"\\nCard {i} (Number {card_numbers[i-1]}): {card}\")\n",
        "        response = input(\"Does the number you thought of exist on this card? (yes/no): \").lower()\n",
        "\n",
        "        while response not in valid_entries:\n",
        "            print(\"Invalid entry. Please enter 'yes' or 'no'.\")\n",
        "            response = input(\"Does the number you thought of exist on this card? (yes/no): \").lower()\n",
        "\n",
        "        if response == 'yes':\n",
        "            num += card_numbers[i-1]\n",
        "\n",
        "    print(f\"\\nThe computer's guess is: {num}\")\n",
        "\n",
        "if __name__ == \"__main__\":\n",
        "    main()\n"
      ]
    }
  ]
}
